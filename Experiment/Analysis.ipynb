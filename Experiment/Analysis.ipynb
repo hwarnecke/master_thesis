{
 "cells": [
  {
   "cell_type": "code",
   "id": "a8400f7a",
   "metadata": {
    "ExecuteTime": {
     "end_time": "2024-08-11T09:38:44.224001Z",
     "start_time": "2024-08-11T09:38:43.666780Z"
    }
   },
   "source": [
    "import pandas as pd\n",
    "import numpy as np\n",
    "from tabulate import tabulate\n",
    "import json"
   ],
   "outputs": [],
   "execution_count": 1
  },
  {
   "cell_type": "code",
   "id": "7fad6012",
   "metadata": {
    "ExecuteTime": {
     "end_time": "2024-08-11T09:38:47.985407Z",
     "start_time": "2024-08-11T09:38:47.961423Z"
    }
   },
   "source": [
    "df = pd.read_csv('./logs/2024-07-29_15-32-57_sauerkraut_hero_q6_jina_custom_prompt/base_sauerkraut_hero_q6_jina_custom_prompt_2024-07-29_15-32-57.csv',\n",
    "                sep=';')"
   ],
   "outputs": [],
   "execution_count": 2
  },
  {
   "cell_type": "markdown",
   "id": "acda6cd8",
   "metadata": {},
   "source": [
    "# Getting the Names of the retrieved nodes"
   ]
  },
  {
   "cell_type": "code",
   "id": "a0619ddc",
   "metadata": {
    "ExecuteTime": {
     "end_time": "2024-08-11T09:44:36.478661Z",
     "start_time": "2024-08-11T09:44:36.465503Z"
    }
   },
   "source": [
    "df"
   ],
   "outputs": [
    {
     "data": {
      "text/plain": [
       "                                                   ID  \\\n",
       "0   base_sauerkraut_hero_q6_jina_custom_prompt_202...   \n",
       "1   base_sauerkraut_hero_q6_jina_custom_prompt_202...   \n",
       "2   base_sauerkraut_hero_q6_jina_custom_prompt_202...   \n",
       "3   base_sauerkraut_hero_q6_jina_custom_prompt_202...   \n",
       "4   base_sauerkraut_hero_q6_jina_custom_prompt_202...   \n",
       "5   base_sauerkraut_hero_q6_jina_custom_prompt_202...   \n",
       "6   base_sauerkraut_hero_q6_jina_custom_prompt_202...   \n",
       "7   base_sauerkraut_hero_q6_jina_custom_prompt_202...   \n",
       "8   base_sauerkraut_hero_q6_jina_custom_prompt_202...   \n",
       "9   base_sauerkraut_hero_q6_jina_custom_prompt_202...   \n",
       "10  base_sauerkraut_hero_q6_jina_custom_prompt_202...   \n",
       "11  base_sauerkraut_hero_q6_jina_custom_prompt_202...   \n",
       "\n",
       "                                                query  \\\n",
       "0                  Wie teuer ist eine Umweltplakette?   \n",
       "1   Welche Fristen muss ich beim Anmelden von Oste...   \n",
       "2          Wo findet Dienstags der Wochenmarkt statt?   \n",
       "3   Kann ich meinen ausländischen Jagdschein in De...   \n",
       "4   Wer ist für die Geldwäscheprävention zuständig...   \n",
       "5   Wen muss ich anrufen, wenn ich ein Führungszeu...   \n",
       "6   Für welche Dienstleistungen ist die Jugendbild...   \n",
       "7   Wer sind die Kontaktpersonen wenn ich meine de...   \n",
       "8    Ich habe ein Baby bekommen, was mache ich jetzt?   \n",
       "9   Ich bin Schüler und brauche Geld, was kann ich...   \n",
       "10   Mein Lappen ist weg, wie bekomme ich den wieder?   \n",
       "11  What documents do I need to get a visa for for...   \n",
       "\n",
       "                                             response  \\\n",
       "0    Leider kann ich keine genaue Angabe zur Koste...   \n",
       "1    Beim Anmelden von Osterfeuern gelten keine sp...   \n",
       "2    Entschuldigung für die Verwirrung. Leider hab...   \n",
       "3    Basierend auf den bereitgestellten Informatio...   \n",
       "4    Für die Geldwäscheprävention sind in Deutschl...   \n",
       "5    Um ein Führungszeugnis zu erhalten, kannst du...   \n",
       "6    Die Dienstleistung \"Ankauf von unbebauten Gru...   \n",
       "7    Basierend auf den bereitgestellten Informatio...   \n",
       "8    Leider kann ich keine persönlichen Fragen ode...   \n",
       "9    Als Schüler könntest du verschiedene Dinge tu...   \n",
       "10   Entschuldigung für den Missverständnis. Als v...   \n",
       "11   Um einen Visum für ausländische Studenten zu ...   \n",
       "\n",
       "                                       correct_answer  query_time  \\\n",
       "0                    Eine Umweltplakette kostet 5,10€    0.016963   \n",
       "1   Der Antrag muss beim Fachbereich Umwelt und Kl...    0.016650   \n",
       "2           An der Lerchenstraße von 08:00 bis 13:00.    0.021415   \n",
       "3   Nein, nichtdeutsche Jagdscheine berechtigen we...    0.013973   \n",
       "4   Für Geldwäscheprävention ist die Einrichtung G...    0.020932   \n",
       "5   Für Führungszeugnisse ist das Bürgeramt zustän...    0.018889   \n",
       "6   Die Jugendbildung ist für die Freiwilligendien...    0.016327   \n",
       "7   Kontaktpersonen sind Frau Hellmann, Herr Dieck...    0.016679   \n",
       "8   Das Kind muss innerhalb einer Woche beim Stand...    0.019479   \n",
       "9   Grundsätzlich können Schülerinnen und Schüler,...    0.027714   \n",
       "10  Um einen entzogenen Führerschein wieder zu bek...    0.016217   \n",
       "11  In der Regel werden folgende Unterlagen benöti...    0.020388   \n",
       "\n",
       "    generating_time  total_time                             Node 1 ID  \\\n",
       "0         17.434056   17.451019  8edfa56a-da95-48f6-8779-856800eb3621   \n",
       "1         25.311505   25.328156  b5c62d29-2a86-407f-be9a-57d837efebc1   \n",
       "2         12.087639   12.109054  e9e496ca-07a6-4b0b-8414-f753b948812b   \n",
       "3         24.899103   24.913076  5f53ce43-0866-4485-85f8-7a919014ba4b   \n",
       "4         46.885345   46.906277  6931c841-9dff-410b-9cc5-8cd37d8f11cb   \n",
       "5         27.187987   27.206876  8c658448-035b-4f81-8f3f-9fdd7d7fbe29   \n",
       "6         37.709510   37.725837  407e94f2-abb3-4094-af6f-8c5112faa1c9   \n",
       "7         32.777989   32.794668  348efd7e-cf99-4339-a107-72e490580489   \n",
       "8         40.554378   40.573857  8ce9c827-c422-4fa4-ad3d-9f344b0dc0d8   \n",
       "9         82.670284   82.697997  8edfa56a-da95-48f6-8779-856800eb3621   \n",
       "10        22.161688   22.177904  be83eb6f-de50-4629-8c56-2817331dbe7d   \n",
       "11        96.107955   96.128343  407e94f2-abb3-4094-af6f-8c5112faa1c9   \n",
       "\n",
       "                                       Node 1 content Node 1 Metadata: Name  \\\n",
       "0   Straßenreinigung         Die Straßenreinigung ...      Straßenreinigung   \n",
       "1   Radverkehr         Ziel ist es, den Radverkehr...            Radverkehr   \n",
       "2   Frau Sunderhaus     Frau Sunderhaus ist in der...       Frau Sunderhaus   \n",
       "3   Herr Vogthinrichs     Herr Vogthinrichs ist in...     Herr Vogthinrichs   \n",
       "4   Grundwasser         Durchführung von Wasserrec...           Grundwasser   \n",
       "5   Frau Kuhn       Einrichtung     Hilfe zur Pfle...             Frau Kuhn   \n",
       "6   Herr Lücke       Einrichtung     Zahlungsabwic...            Herr Lücke   \n",
       "7   Frau Hanisch     Frau Hanisch ist in der Funkt...          Frau Hanisch   \n",
       "8   Herr Klus    Beauftragter für Medizinproduktes...             Herr Klus   \n",
       "9   Straßenreinigung         Die Straßenreinigung ...      Straßenreinigung   \n",
       "10  Frau Koch     Frau Koch ist in der Funktion al...             Frau Koch   \n",
       "11  Herr Lücke       Einrichtung     Zahlungsabwic...            Herr Lücke   \n",
       "\n",
       "    ...          Node 2 Metadata: Name Node 2 score  \\\n",
       "0   ...            Flächennutzungsplan     0.999042   \n",
       "1   ...                   Herr Rudolph     0.987111   \n",
       "2   ...                Stadtbibliothek     0.998269   \n",
       "3   ...                     Herr Harre     0.977154   \n",
       "4   ...                   Heimaufsicht     0.980673   \n",
       "5   ...               Betreuungsstelle     0.997275   \n",
       "6   ...  Elterngeld und ElterngeldPlus     0.994574   \n",
       "7   ...                  Frau Dyckhoff     0.989935   \n",
       "8   ...              Waffenbesitzkarte     0.987810   \n",
       "9   ...                     Frau Sahin     0.990999   \n",
       "10  ...                 Frau Karschuck     0.994264   \n",
       "11  ...              Wohnraumförderung     0.999256   \n",
       "\n",
       "                               Node 3 ID  \\\n",
       "0   1032b57c-0228-4c7a-923d-d33348b4fe26   \n",
       "1   28c7250d-8ba4-4f46-b2d5-674a8bee2d19   \n",
       "2   8edfa56a-da95-48f6-8779-856800eb3621   \n",
       "3   011557b4-d389-44ef-abd7-9293a75c24c0   \n",
       "4   73f65589-c142-4486-8641-0941352cb510   \n",
       "5   488f5e2e-c9d2-4bb4-be24-470544317d9a   \n",
       "6   5d989005-e991-48da-804e-e1ff9625afe6   \n",
       "7   a757019f-36a2-4f28-8300-7952627b93e8   \n",
       "8   a1500001-16be-4617-a0b8-9888df777664   \n",
       "9   a264e5a3-0771-4b21-8a24-cb244debaa2b   \n",
       "10  65f56cd7-f33c-4b7d-9886-3b91b931c4a7   \n",
       "11  8607010a-c24d-4599-bbc9-25c3557eedf8   \n",
       "\n",
       "                                       Node 3 content  \\\n",
       "0   Staatsangehörigkeit / Namensänderungen (32-14)...   \n",
       "1   Wenn Sie diese Voraussetzungen nicht erfüllen,...   \n",
       "2   Straßenreinigung         Die Straßenreinigung ...   \n",
       "3   Herr Czech     Herr Czech ist in der Funktion ...   \n",
       "4   Herr Lachmann     Herr Lachmann ist in der Fun...   \n",
       "5   Herr Reichert       Einrichtung     Ordnungsbe...   \n",
       "6   Ankauf von unbebauten Grundstücken         Die...   \n",
       "7   Herr Eilts     Herr Eilts ist in der Funktion ...   \n",
       "8   Frau Zakrzewski     Frau Zakrzewski ist in der...   \n",
       "9   Kurzzeitkennzeichen         Kurzzeitkennzeiche...   \n",
       "10  Nicht alle Betreuungskräfte werden im sozialen...   \n",
       "11  Herr Waschke     Herr Waschke ist in der Funkt...   \n",
       "\n",
       "                                Node 3 Metadata: Name Node 3 score  \\\n",
       "0              Staatsangehörigkeit / Namensänderungen     0.993672   \n",
       "1   Einbürgerungen nach dem Staatsangehörigkeitsge...     0.983355   \n",
       "2                                    Straßenreinigung     0.989109   \n",
       "3                                          Herr Czech     0.973655   \n",
       "4                                       Herr Lachmann     0.977021   \n",
       "5                                       Herr Reichert     0.996750   \n",
       "6                  Ankauf von unbebauten Grundstücken     0.994340   \n",
       "7                                          Herr Eilts     0.989867   \n",
       "8                                     Frau Zakrzewski     0.983433   \n",
       "9                                 Kurzzeitkennzeichen     0.987688   \n",
       "10  Leistungen nach dem Sozialdienstleister-Einsat...     0.993689   \n",
       "11                                       Herr Waschke     0.998597   \n",
       "\n",
       "   embedding_tokens prompt_tokens  completion_tokens  total_tokens  \n",
       "0                12          1902                173          2075  \n",
       "1                20          1701                243          1944  \n",
       "2                10          1909                 97          2006  \n",
       "3                15          1402                251          1653  \n",
       "4                23          2102                455          2557  \n",
       "5                19          1046                265          1311  \n",
       "6                28          1915                380          2295  \n",
       "7                24          1167                349          1516  \n",
       "8                12          1772                352          2124  \n",
       "9                14          2225                723          2948  \n",
       "10               14          1197                221          1418  \n",
       "11               13          1906                933          2839  \n",
       "\n",
       "[12 rows x 23 columns]"
      ],
      "text/html": [
       "<div>\n",
       "<style scoped>\n",
       "    .dataframe tbody tr th:only-of-type {\n",
       "        vertical-align: middle;\n",
       "    }\n",
       "\n",
       "    .dataframe tbody tr th {\n",
       "        vertical-align: top;\n",
       "    }\n",
       "\n",
       "    .dataframe thead th {\n",
       "        text-align: right;\n",
       "    }\n",
       "</style>\n",
       "<table border=\"1\" class=\"dataframe\">\n",
       "  <thead>\n",
       "    <tr style=\"text-align: right;\">\n",
       "      <th></th>\n",
       "      <th>ID</th>\n",
       "      <th>query</th>\n",
       "      <th>response</th>\n",
       "      <th>correct_answer</th>\n",
       "      <th>query_time</th>\n",
       "      <th>generating_time</th>\n",
       "      <th>total_time</th>\n",
       "      <th>Node 1 ID</th>\n",
       "      <th>Node 1 content</th>\n",
       "      <th>Node 1 Metadata: Name</th>\n",
       "      <th>...</th>\n",
       "      <th>Node 2 Metadata: Name</th>\n",
       "      <th>Node 2 score</th>\n",
       "      <th>Node 3 ID</th>\n",
       "      <th>Node 3 content</th>\n",
       "      <th>Node 3 Metadata: Name</th>\n",
       "      <th>Node 3 score</th>\n",
       "      <th>embedding_tokens</th>\n",
       "      <th>prompt_tokens</th>\n",
       "      <th>completion_tokens</th>\n",
       "      <th>total_tokens</th>\n",
       "    </tr>\n",
       "  </thead>\n",
       "  <tbody>\n",
       "    <tr>\n",
       "      <th>0</th>\n",
       "      <td>base_sauerkraut_hero_q6_jina_custom_prompt_202...</td>\n",
       "      <td>Wie teuer ist eine Umweltplakette?</td>\n",
       "      <td>Leider kann ich keine genaue Angabe zur Koste...</td>\n",
       "      <td>Eine Umweltplakette kostet 5,10€</td>\n",
       "      <td>0.016963</td>\n",
       "      <td>17.434056</td>\n",
       "      <td>17.451019</td>\n",
       "      <td>8edfa56a-da95-48f6-8779-856800eb3621</td>\n",
       "      <td>Straßenreinigung         Die Straßenreinigung ...</td>\n",
       "      <td>Straßenreinigung</td>\n",
       "      <td>...</td>\n",
       "      <td>Flächennutzungsplan</td>\n",
       "      <td>0.999042</td>\n",
       "      <td>1032b57c-0228-4c7a-923d-d33348b4fe26</td>\n",
       "      <td>Staatsangehörigkeit / Namensänderungen (32-14)...</td>\n",
       "      <td>Staatsangehörigkeit / Namensänderungen</td>\n",
       "      <td>0.993672</td>\n",
       "      <td>12</td>\n",
       "      <td>1902</td>\n",
       "      <td>173</td>\n",
       "      <td>2075</td>\n",
       "    </tr>\n",
       "    <tr>\n",
       "      <th>1</th>\n",
       "      <td>base_sauerkraut_hero_q6_jina_custom_prompt_202...</td>\n",
       "      <td>Welche Fristen muss ich beim Anmelden von Oste...</td>\n",
       "      <td>Beim Anmelden von Osterfeuern gelten keine sp...</td>\n",
       "      <td>Der Antrag muss beim Fachbereich Umwelt und Kl...</td>\n",
       "      <td>0.016650</td>\n",
       "      <td>25.311505</td>\n",
       "      <td>25.328156</td>\n",
       "      <td>b5c62d29-2a86-407f-be9a-57d837efebc1</td>\n",
       "      <td>Radverkehr         Ziel ist es, den Radverkehr...</td>\n",
       "      <td>Radverkehr</td>\n",
       "      <td>...</td>\n",
       "      <td>Herr Rudolph</td>\n",
       "      <td>0.987111</td>\n",
       "      <td>28c7250d-8ba4-4f46-b2d5-674a8bee2d19</td>\n",
       "      <td>Wenn Sie diese Voraussetzungen nicht erfüllen,...</td>\n",
       "      <td>Einbürgerungen nach dem Staatsangehörigkeitsge...</td>\n",
       "      <td>0.983355</td>\n",
       "      <td>20</td>\n",
       "      <td>1701</td>\n",
       "      <td>243</td>\n",
       "      <td>1944</td>\n",
       "    </tr>\n",
       "    <tr>\n",
       "      <th>2</th>\n",
       "      <td>base_sauerkraut_hero_q6_jina_custom_prompt_202...</td>\n",
       "      <td>Wo findet Dienstags der Wochenmarkt statt?</td>\n",
       "      <td>Entschuldigung für die Verwirrung. Leider hab...</td>\n",
       "      <td>An der Lerchenstraße von 08:00 bis 13:00.</td>\n",
       "      <td>0.021415</td>\n",
       "      <td>12.087639</td>\n",
       "      <td>12.109054</td>\n",
       "      <td>e9e496ca-07a6-4b0b-8414-f753b948812b</td>\n",
       "      <td>Frau Sunderhaus     Frau Sunderhaus ist in der...</td>\n",
       "      <td>Frau Sunderhaus</td>\n",
       "      <td>...</td>\n",
       "      <td>Stadtbibliothek</td>\n",
       "      <td>0.998269</td>\n",
       "      <td>8edfa56a-da95-48f6-8779-856800eb3621</td>\n",
       "      <td>Straßenreinigung         Die Straßenreinigung ...</td>\n",
       "      <td>Straßenreinigung</td>\n",
       "      <td>0.989109</td>\n",
       "      <td>10</td>\n",
       "      <td>1909</td>\n",
       "      <td>97</td>\n",
       "      <td>2006</td>\n",
       "    </tr>\n",
       "    <tr>\n",
       "      <th>3</th>\n",
       "      <td>base_sauerkraut_hero_q6_jina_custom_prompt_202...</td>\n",
       "      <td>Kann ich meinen ausländischen Jagdschein in De...</td>\n",
       "      <td>Basierend auf den bereitgestellten Informatio...</td>\n",
       "      <td>Nein, nichtdeutsche Jagdscheine berechtigen we...</td>\n",
       "      <td>0.013973</td>\n",
       "      <td>24.899103</td>\n",
       "      <td>24.913076</td>\n",
       "      <td>5f53ce43-0866-4485-85f8-7a919014ba4b</td>\n",
       "      <td>Herr Vogthinrichs     Herr Vogthinrichs ist in...</td>\n",
       "      <td>Herr Vogthinrichs</td>\n",
       "      <td>...</td>\n",
       "      <td>Herr Harre</td>\n",
       "      <td>0.977154</td>\n",
       "      <td>011557b4-d389-44ef-abd7-9293a75c24c0</td>\n",
       "      <td>Herr Czech     Herr Czech ist in der Funktion ...</td>\n",
       "      <td>Herr Czech</td>\n",
       "      <td>0.973655</td>\n",
       "      <td>15</td>\n",
       "      <td>1402</td>\n",
       "      <td>251</td>\n",
       "      <td>1653</td>\n",
       "    </tr>\n",
       "    <tr>\n",
       "      <th>4</th>\n",
       "      <td>base_sauerkraut_hero_q6_jina_custom_prompt_202...</td>\n",
       "      <td>Wer ist für die Geldwäscheprävention zuständig...</td>\n",
       "      <td>Für die Geldwäscheprävention sind in Deutschl...</td>\n",
       "      <td>Für Geldwäscheprävention ist die Einrichtung G...</td>\n",
       "      <td>0.020932</td>\n",
       "      <td>46.885345</td>\n",
       "      <td>46.906277</td>\n",
       "      <td>6931c841-9dff-410b-9cc5-8cd37d8f11cb</td>\n",
       "      <td>Grundwasser         Durchführung von Wasserrec...</td>\n",
       "      <td>Grundwasser</td>\n",
       "      <td>...</td>\n",
       "      <td>Heimaufsicht</td>\n",
       "      <td>0.980673</td>\n",
       "      <td>73f65589-c142-4486-8641-0941352cb510</td>\n",
       "      <td>Herr Lachmann     Herr Lachmann ist in der Fun...</td>\n",
       "      <td>Herr Lachmann</td>\n",
       "      <td>0.977021</td>\n",
       "      <td>23</td>\n",
       "      <td>2102</td>\n",
       "      <td>455</td>\n",
       "      <td>2557</td>\n",
       "    </tr>\n",
       "    <tr>\n",
       "      <th>5</th>\n",
       "      <td>base_sauerkraut_hero_q6_jina_custom_prompt_202...</td>\n",
       "      <td>Wen muss ich anrufen, wenn ich ein Führungszeu...</td>\n",
       "      <td>Um ein Führungszeugnis zu erhalten, kannst du...</td>\n",
       "      <td>Für Führungszeugnisse ist das Bürgeramt zustän...</td>\n",
       "      <td>0.018889</td>\n",
       "      <td>27.187987</td>\n",
       "      <td>27.206876</td>\n",
       "      <td>8c658448-035b-4f81-8f3f-9fdd7d7fbe29</td>\n",
       "      <td>Frau Kuhn       Einrichtung     Hilfe zur Pfle...</td>\n",
       "      <td>Frau Kuhn</td>\n",
       "      <td>...</td>\n",
       "      <td>Betreuungsstelle</td>\n",
       "      <td>0.997275</td>\n",
       "      <td>488f5e2e-c9d2-4bb4-be24-470544317d9a</td>\n",
       "      <td>Herr Reichert       Einrichtung     Ordnungsbe...</td>\n",
       "      <td>Herr Reichert</td>\n",
       "      <td>0.996750</td>\n",
       "      <td>19</td>\n",
       "      <td>1046</td>\n",
       "      <td>265</td>\n",
       "      <td>1311</td>\n",
       "    </tr>\n",
       "    <tr>\n",
       "      <th>6</th>\n",
       "      <td>base_sauerkraut_hero_q6_jina_custom_prompt_202...</td>\n",
       "      <td>Für welche Dienstleistungen ist die Jugendbild...</td>\n",
       "      <td>Die Dienstleistung \"Ankauf von unbebauten Gru...</td>\n",
       "      <td>Die Jugendbildung ist für die Freiwilligendien...</td>\n",
       "      <td>0.016327</td>\n",
       "      <td>37.709510</td>\n",
       "      <td>37.725837</td>\n",
       "      <td>407e94f2-abb3-4094-af6f-8c5112faa1c9</td>\n",
       "      <td>Herr Lücke       Einrichtung     Zahlungsabwic...</td>\n",
       "      <td>Herr Lücke</td>\n",
       "      <td>...</td>\n",
       "      <td>Elterngeld und ElterngeldPlus</td>\n",
       "      <td>0.994574</td>\n",
       "      <td>5d989005-e991-48da-804e-e1ff9625afe6</td>\n",
       "      <td>Ankauf von unbebauten Grundstücken         Die...</td>\n",
       "      <td>Ankauf von unbebauten Grundstücken</td>\n",
       "      <td>0.994340</td>\n",
       "      <td>28</td>\n",
       "      <td>1915</td>\n",
       "      <td>380</td>\n",
       "      <td>2295</td>\n",
       "    </tr>\n",
       "    <tr>\n",
       "      <th>7</th>\n",
       "      <td>base_sauerkraut_hero_q6_jina_custom_prompt_202...</td>\n",
       "      <td>Wer sind die Kontaktpersonen wenn ich meine de...</td>\n",
       "      <td>Basierend auf den bereitgestellten Informatio...</td>\n",
       "      <td>Kontaktpersonen sind Frau Hellmann, Herr Dieck...</td>\n",
       "      <td>0.016679</td>\n",
       "      <td>32.777989</td>\n",
       "      <td>32.794668</td>\n",
       "      <td>348efd7e-cf99-4339-a107-72e490580489</td>\n",
       "      <td>Frau Hanisch     Frau Hanisch ist in der Funkt...</td>\n",
       "      <td>Frau Hanisch</td>\n",
       "      <td>...</td>\n",
       "      <td>Frau Dyckhoff</td>\n",
       "      <td>0.989935</td>\n",
       "      <td>a757019f-36a2-4f28-8300-7952627b93e8</td>\n",
       "      <td>Herr Eilts     Herr Eilts ist in der Funktion ...</td>\n",
       "      <td>Herr Eilts</td>\n",
       "      <td>0.989867</td>\n",
       "      <td>24</td>\n",
       "      <td>1167</td>\n",
       "      <td>349</td>\n",
       "      <td>1516</td>\n",
       "    </tr>\n",
       "    <tr>\n",
       "      <th>8</th>\n",
       "      <td>base_sauerkraut_hero_q6_jina_custom_prompt_202...</td>\n",
       "      <td>Ich habe ein Baby bekommen, was mache ich jetzt?</td>\n",
       "      <td>Leider kann ich keine persönlichen Fragen ode...</td>\n",
       "      <td>Das Kind muss innerhalb einer Woche beim Stand...</td>\n",
       "      <td>0.019479</td>\n",
       "      <td>40.554378</td>\n",
       "      <td>40.573857</td>\n",
       "      <td>8ce9c827-c422-4fa4-ad3d-9f344b0dc0d8</td>\n",
       "      <td>Herr Klus    Beauftragter für Medizinproduktes...</td>\n",
       "      <td>Herr Klus</td>\n",
       "      <td>...</td>\n",
       "      <td>Waffenbesitzkarte</td>\n",
       "      <td>0.987810</td>\n",
       "      <td>a1500001-16be-4617-a0b8-9888df777664</td>\n",
       "      <td>Frau Zakrzewski     Frau Zakrzewski ist in der...</td>\n",
       "      <td>Frau Zakrzewski</td>\n",
       "      <td>0.983433</td>\n",
       "      <td>12</td>\n",
       "      <td>1772</td>\n",
       "      <td>352</td>\n",
       "      <td>2124</td>\n",
       "    </tr>\n",
       "    <tr>\n",
       "      <th>9</th>\n",
       "      <td>base_sauerkraut_hero_q6_jina_custom_prompt_202...</td>\n",
       "      <td>Ich bin Schüler und brauche Geld, was kann ich...</td>\n",
       "      <td>Als Schüler könntest du verschiedene Dinge tu...</td>\n",
       "      <td>Grundsätzlich können Schülerinnen und Schüler,...</td>\n",
       "      <td>0.027714</td>\n",
       "      <td>82.670284</td>\n",
       "      <td>82.697997</td>\n",
       "      <td>8edfa56a-da95-48f6-8779-856800eb3621</td>\n",
       "      <td>Straßenreinigung         Die Straßenreinigung ...</td>\n",
       "      <td>Straßenreinigung</td>\n",
       "      <td>...</td>\n",
       "      <td>Frau Sahin</td>\n",
       "      <td>0.990999</td>\n",
       "      <td>a264e5a3-0771-4b21-8a24-cb244debaa2b</td>\n",
       "      <td>Kurzzeitkennzeichen         Kurzzeitkennzeiche...</td>\n",
       "      <td>Kurzzeitkennzeichen</td>\n",
       "      <td>0.987688</td>\n",
       "      <td>14</td>\n",
       "      <td>2225</td>\n",
       "      <td>723</td>\n",
       "      <td>2948</td>\n",
       "    </tr>\n",
       "    <tr>\n",
       "      <th>10</th>\n",
       "      <td>base_sauerkraut_hero_q6_jina_custom_prompt_202...</td>\n",
       "      <td>Mein Lappen ist weg, wie bekomme ich den wieder?</td>\n",
       "      <td>Entschuldigung für den Missverständnis. Als v...</td>\n",
       "      <td>Um einen entzogenen Führerschein wieder zu bek...</td>\n",
       "      <td>0.016217</td>\n",
       "      <td>22.161688</td>\n",
       "      <td>22.177904</td>\n",
       "      <td>be83eb6f-de50-4629-8c56-2817331dbe7d</td>\n",
       "      <td>Frau Koch     Frau Koch ist in der Funktion al...</td>\n",
       "      <td>Frau Koch</td>\n",
       "      <td>...</td>\n",
       "      <td>Frau Karschuck</td>\n",
       "      <td>0.994264</td>\n",
       "      <td>65f56cd7-f33c-4b7d-9886-3b91b931c4a7</td>\n",
       "      <td>Nicht alle Betreuungskräfte werden im sozialen...</td>\n",
       "      <td>Leistungen nach dem Sozialdienstleister-Einsat...</td>\n",
       "      <td>0.993689</td>\n",
       "      <td>14</td>\n",
       "      <td>1197</td>\n",
       "      <td>221</td>\n",
       "      <td>1418</td>\n",
       "    </tr>\n",
       "    <tr>\n",
       "      <th>11</th>\n",
       "      <td>base_sauerkraut_hero_q6_jina_custom_prompt_202...</td>\n",
       "      <td>What documents do I need to get a visa for for...</td>\n",
       "      <td>Um einen Visum für ausländische Studenten zu ...</td>\n",
       "      <td>In der Regel werden folgende Unterlagen benöti...</td>\n",
       "      <td>0.020388</td>\n",
       "      <td>96.107955</td>\n",
       "      <td>96.128343</td>\n",
       "      <td>407e94f2-abb3-4094-af6f-8c5112faa1c9</td>\n",
       "      <td>Herr Lücke       Einrichtung     Zahlungsabwic...</td>\n",
       "      <td>Herr Lücke</td>\n",
       "      <td>...</td>\n",
       "      <td>Wohnraumförderung</td>\n",
       "      <td>0.999256</td>\n",
       "      <td>8607010a-c24d-4599-bbc9-25c3557eedf8</td>\n",
       "      <td>Herr Waschke     Herr Waschke ist in der Funkt...</td>\n",
       "      <td>Herr Waschke</td>\n",
       "      <td>0.998597</td>\n",
       "      <td>13</td>\n",
       "      <td>1906</td>\n",
       "      <td>933</td>\n",
       "      <td>2839</td>\n",
       "    </tr>\n",
       "  </tbody>\n",
       "</table>\n",
       "<p>12 rows × 23 columns</p>\n",
       "</div>"
      ]
     },
     "execution_count": 8,
     "metadata": {},
     "output_type": "execute_result"
    }
   ],
   "execution_count": 8
  },
  {
   "cell_type": "code",
   "id": "57b7d1b6",
   "metadata": {
    "ExecuteTime": {
     "end_time": "2024-08-11T09:45:27.345198Z",
     "start_time": "2024-08-11T09:45:27.340062Z"
    }
   },
   "source": [
    "name_1 = \"Node 1 Metadata: Name\"\n",
    "name_2 = \"Node 2 Metadata: Name\"\n",
    "name_3 = \"Node 3 Metadata: Name\"\n",
    "\n",
    "id_1 = \"Node 1 ID\"\n",
    "id_2 = \"Node 2 ID\"\n",
    "id_3 = \"Node 3 ID\"\n",
    "\n",
    "nodes_name_1 = df[name_1]\n",
    "nodes_name_2 = df[name_2]\n",
    "nodes_name_3 = df[name_3]\n",
    "\n",
    "nodes_id_1 = df[id_1]\n",
    "nodes_id_2 = df[id_2]\n",
    "nodes_id_3 = df[id_3]\n",
    "\n",
    "node_combined = df[[name_1, name_2, name_3]]"
   ],
   "outputs": [],
   "execution_count": 10
  },
  {
   "metadata": {
    "ExecuteTime": {
     "end_time": "2024-08-11T11:13:08.442093Z",
     "start_time": "2024-08-11T11:13:08.438032Z"
    }
   },
   "cell_type": "code",
   "source": "node_combined",
   "id": "fb52e577991bc68c",
   "outputs": [
    {
     "data": {
      "text/plain": [
       "   Node 1 Metadata: Name          Node 2 Metadata: Name  \\\n",
       "0       Straßenreinigung            Flächennutzungsplan   \n",
       "1             Radverkehr                   Herr Rudolph   \n",
       "2        Frau Sunderhaus                Stadtbibliothek   \n",
       "3      Herr Vogthinrichs                     Herr Harre   \n",
       "4            Grundwasser                   Heimaufsicht   \n",
       "5              Frau Kuhn               Betreuungsstelle   \n",
       "6             Herr Lücke  Elterngeld und ElterngeldPlus   \n",
       "7           Frau Hanisch                  Frau Dyckhoff   \n",
       "8              Herr Klus              Waffenbesitzkarte   \n",
       "9       Straßenreinigung                     Frau Sahin   \n",
       "10             Frau Koch                 Frau Karschuck   \n",
       "11            Herr Lücke              Wohnraumförderung   \n",
       "\n",
       "                                Node 3 Metadata: Name  \n",
       "0              Staatsangehörigkeit / Namensänderungen  \n",
       "1   Einbürgerungen nach dem Staatsangehörigkeitsge...  \n",
       "2                                    Straßenreinigung  \n",
       "3                                          Herr Czech  \n",
       "4                                       Herr Lachmann  \n",
       "5                                       Herr Reichert  \n",
       "6                  Ankauf von unbebauten Grundstücken  \n",
       "7                                          Herr Eilts  \n",
       "8                                     Frau Zakrzewski  \n",
       "9                                 Kurzzeitkennzeichen  \n",
       "10  Leistungen nach dem Sozialdienstleister-Einsat...  \n",
       "11                                       Herr Waschke  "
      ],
      "text/html": [
       "<div>\n",
       "<style scoped>\n",
       "    .dataframe tbody tr th:only-of-type {\n",
       "        vertical-align: middle;\n",
       "    }\n",
       "\n",
       "    .dataframe tbody tr th {\n",
       "        vertical-align: top;\n",
       "    }\n",
       "\n",
       "    .dataframe thead th {\n",
       "        text-align: right;\n",
       "    }\n",
       "</style>\n",
       "<table border=\"1\" class=\"dataframe\">\n",
       "  <thead>\n",
       "    <tr style=\"text-align: right;\">\n",
       "      <th></th>\n",
       "      <th>Node 1 Metadata: Name</th>\n",
       "      <th>Node 2 Metadata: Name</th>\n",
       "      <th>Node 3 Metadata: Name</th>\n",
       "    </tr>\n",
       "  </thead>\n",
       "  <tbody>\n",
       "    <tr>\n",
       "      <th>0</th>\n",
       "      <td>Straßenreinigung</td>\n",
       "      <td>Flächennutzungsplan</td>\n",
       "      <td>Staatsangehörigkeit / Namensänderungen</td>\n",
       "    </tr>\n",
       "    <tr>\n",
       "      <th>1</th>\n",
       "      <td>Radverkehr</td>\n",
       "      <td>Herr Rudolph</td>\n",
       "      <td>Einbürgerungen nach dem Staatsangehörigkeitsge...</td>\n",
       "    </tr>\n",
       "    <tr>\n",
       "      <th>2</th>\n",
       "      <td>Frau Sunderhaus</td>\n",
       "      <td>Stadtbibliothek</td>\n",
       "      <td>Straßenreinigung</td>\n",
       "    </tr>\n",
       "    <tr>\n",
       "      <th>3</th>\n",
       "      <td>Herr Vogthinrichs</td>\n",
       "      <td>Herr Harre</td>\n",
       "      <td>Herr Czech</td>\n",
       "    </tr>\n",
       "    <tr>\n",
       "      <th>4</th>\n",
       "      <td>Grundwasser</td>\n",
       "      <td>Heimaufsicht</td>\n",
       "      <td>Herr Lachmann</td>\n",
       "    </tr>\n",
       "    <tr>\n",
       "      <th>5</th>\n",
       "      <td>Frau Kuhn</td>\n",
       "      <td>Betreuungsstelle</td>\n",
       "      <td>Herr Reichert</td>\n",
       "    </tr>\n",
       "    <tr>\n",
       "      <th>6</th>\n",
       "      <td>Herr Lücke</td>\n",
       "      <td>Elterngeld und ElterngeldPlus</td>\n",
       "      <td>Ankauf von unbebauten Grundstücken</td>\n",
       "    </tr>\n",
       "    <tr>\n",
       "      <th>7</th>\n",
       "      <td>Frau Hanisch</td>\n",
       "      <td>Frau Dyckhoff</td>\n",
       "      <td>Herr Eilts</td>\n",
       "    </tr>\n",
       "    <tr>\n",
       "      <th>8</th>\n",
       "      <td>Herr Klus</td>\n",
       "      <td>Waffenbesitzkarte</td>\n",
       "      <td>Frau Zakrzewski</td>\n",
       "    </tr>\n",
       "    <tr>\n",
       "      <th>9</th>\n",
       "      <td>Straßenreinigung</td>\n",
       "      <td>Frau Sahin</td>\n",
       "      <td>Kurzzeitkennzeichen</td>\n",
       "    </tr>\n",
       "    <tr>\n",
       "      <th>10</th>\n",
       "      <td>Frau Koch</td>\n",
       "      <td>Frau Karschuck</td>\n",
       "      <td>Leistungen nach dem Sozialdienstleister-Einsat...</td>\n",
       "    </tr>\n",
       "    <tr>\n",
       "      <th>11</th>\n",
       "      <td>Herr Lücke</td>\n",
       "      <td>Wohnraumförderung</td>\n",
       "      <td>Herr Waschke</td>\n",
       "    </tr>\n",
       "  </tbody>\n",
       "</table>\n",
       "</div>"
      ]
     },
     "execution_count": 27,
     "metadata": {},
     "output_type": "execute_result"
    }
   ],
   "execution_count": 27
  },
  {
   "metadata": {
    "ExecuteTime": {
     "end_time": "2024-08-11T11:09:01.624855Z",
     "start_time": "2024-08-11T11:09:01.621733Z"
    }
   },
   "cell_type": "code",
   "source": "node_combined.iloc[1].astype(str).values",
   "id": "95d23fe5357b3470",
   "outputs": [
    {
     "data": {
      "text/plain": [
       "array(['Radverkehr', 'Herr Rudolph',\n",
       "       'Einbürgerungen nach dem Staatsangehörigkeitsgesetz (StAG)'],\n",
       "      dtype=object)"
      ]
     },
     "execution_count": 25,
     "metadata": {},
     "output_type": "execute_result"
    }
   ],
   "execution_count": 25
  },
  {
   "metadata": {
    "ExecuteTime": {
     "end_time": "2024-08-11T11:10:19.002542Z",
     "start_time": "2024-08-11T11:10:18.797986Z"
    }
   },
   "cell_type": "code",
   "source": [
    "control_path = \"documents.json\"\n",
    "with open(control_path, 'r') as file:\n",
    "    control_documents = json.load(file)\n",
    "    \n",
    "for i in range(len(control_documents)):\n",
    "    names = [document['Name'] for document in control_documents[i]]\n",
    "    ids = [document['ID'] for document in control_documents[i]]\n",
    "    print(all(s in node_combined.iloc[i].astype(str).values for s in names))\n",
    "    "
   ],
   "id": "26adad567e19cc24",
   "outputs": [
    {
     "name": "stdout",
     "output_type": "stream",
     "text": [
      "False\n",
      "False\n",
      "False\n",
      "False\n",
      "False\n",
      "False\n",
      "False\n",
      "False\n",
      "False\n",
      "False\n",
      "False\n",
      "False\n"
     ]
    }
   ],
   "execution_count": 26
  },
  {
   "metadata": {
    "ExecuteTime": {
     "end_time": "2024-08-11T12:07:35.925303Z",
     "start_time": "2024-08-11T12:07:35.921330Z"
    }
   },
   "cell_type": "code",
   "source": "any(s in [\"Personalausweis\", \"Amt\", \"ssst\"] for s in [\"ssst\", \"Personalausweis\"])",
   "id": "798aff1ac85127bc",
   "outputs": [
    {
     "data": {
      "text/plain": [
       "True"
      ]
     },
     "execution_count": 55,
     "metadata": {},
     "output_type": "execute_result"
    }
   ],
   "execution_count": 55
  },
  {
   "metadata": {},
   "cell_type": "code",
   "outputs": [],
   "execution_count": null,
   "source": [
    "def extract_control_keys(control_documents: list, type: str, index: int) -> list:\n",
    "    # extract either the names or the IDs:\n",
    "    if type == \"name\":\n",
    "        control_keys = [document['Name'] for document in control_documents[i]]\n",
    "    elif type == \"id\":\n",
    "        control_keys = [document['ID'] for document in control_documents[i]]\n",
    "    else:\n",
    "        raise ValueError(\"Type must be either 'name' or 'id'\")\n",
    "    return control_keys"
   ],
   "id": "fb969c4770b861ab"
  },
  {
   "metadata": {},
   "cell_type": "code",
   "outputs": [],
   "execution_count": null,
   "source": [
    "def extract_test_keys(df: pd.DataFrame, columns:list, index: int) -> pd.array:\n",
    "    nodes = df[columns]\n",
    "    return nodes.iloc[index].astype(str).values"
   ],
   "id": "accdf8a43ff80d2a"
  },
  {
   "metadata": {},
   "cell_type": "code",
   "outputs": [],
   "execution_count": null,
   "source": [
    "def compare_nodes(df: pd.DataFrame, control_path: str, columns: list, type: str = \"name\") -> [float, list[bool]]:\n",
    "    \n",
    "    \n",
    "    # read in the control documents\n",
    "    with open(control_path, 'r') as file:\n",
    "        control_documents = json.load(file)\n",
    "        \n",
    "    # compare if the test_keys contain all elements of the control_keys\n",
    "    # I.e. if one of the three retrieved nodes contains the name \"Umwelt\"\n",
    "    comparison: list[bool] = []\n",
    "    for i in range(len(control_documents)):\n",
    "        control_keys = extract_control_keys(control_documents, type, i)\n",
    "        test_keys = extract_test_keys(df, columns, i)\n",
    "        comparison.append(all(s in test_keys for s in control_keys))\n",
    "        \n",
    "    # calculate the ratio of true to false\n",
    "    ratio: float = np.mean(comparison)\n",
    "    \n",
    "    return ratio, comparison"
   ],
   "id": "c8d40607b649d74a"
  },
  {
   "cell_type": "markdown",
   "id": "7b84e032",
   "metadata": {},
   "source": [
    "# Calculating average times"
   ]
  },
  {
   "cell_type": "code",
   "id": "46ece596",
   "metadata": {
    "ExecuteTime": {
     "end_time": "2024-08-06T10:25:52.529589Z",
     "start_time": "2024-08-06T10:25:52.522936Z"
    }
   },
   "source": [
    "query_times = df[\"query_time\"]\n",
    "generating_times = df[\"generating_time\"]\n",
    "total_times = df[\"total_time\"]\n",
    "\n",
    "# calculate averages\n",
    "avg_query_time = np.mean(query_times)\n",
    "avg_generating_time = np.mean(generating_times)\n",
    "avg_total_time = np.mean(total_times)\n",
    "\n",
    "# get maximum\n",
    "max_query_time = np.max(query_times)\n",
    "max_generating_time = np.max(generating_times)\n",
    "max_total_time = np.max(total_times)\n",
    "\n",
    "# get max ids\n",
    "max_query_id = query_times.idxmax()\n",
    "max_generating_id = generating_times.idxmax()\n",
    "max_total_id = total_times.idxmax()\n",
    "\n",
    "# get minimum\n",
    "min_query_time = np.min(query_times)\n",
    "min_generating_time = np.min(generating_times)\n",
    "min_total_time = np.min(total_times)\n",
    "\n",
    "# get min ids\n",
    "min_query_id = query_times.idxmin()\n",
    "min_generating_id = generating_times.idxmin()\n",
    "min_total_id = total_times.idxmin()"
   ],
   "outputs": [],
   "execution_count": 6
  },
  {
   "cell_type": "code",
   "id": "9b8b31fc",
   "metadata": {
    "ExecuteTime": {
     "end_time": "2024-08-06T10:26:06.553231Z",
     "start_time": "2024-08-06T10:26:06.549361Z"
    }
   },
   "source": [
    "# Prepare data for table\n",
    "data = [\n",
    "    [\"Query Time (s)\", avg_query_time, max_query_time, min_query_time, max_query_id, min_query_id],\n",
    "    [\"Generating Time (s)\", avg_generating_time, max_generating_time, min_generating_time, max_generating_id, min_generating_id],\n",
    "    [\"Total Time (s)\", avg_total_time, max_total_time, min_total_time, max_total_id, min_total_id]\n",
    "]\n",
    "\n",
    "# Print table\n",
    "print(tabulate(data, headers=[\"Type\", \"Average\", \"Maximum\", \"Minimum\", \"Max ID\", \"Min ID\"], tablefmt=\"grid\"))"
   ],
   "outputs": [
    {
     "name": "stdout",
     "output_type": "stream",
     "text": [
      "+---------------------+-----------+------------+------------+----------+----------+\n",
      "| Type                |   Average |    Maximum |    Minimum |   Max ID |   Min ID |\n",
      "+=====================+===========+============+============+==========+==========+\n",
      "| Query Time (s)      |  0.018802 |  0.0277135 |  0.0139725 |        9 |        3 |\n",
      "+---------------------+-----------+------------+------------+----------+----------+\n",
      "| Generating Time (s) | 38.8156   | 96.108     | 12.0876    |       11 |        2 |\n",
      "+---------------------+-----------+------------+------------+----------+----------+\n",
      "| Total Time (s)      | 38.8344   | 96.1283    | 12.1091    |       11 |        2 |\n",
      "+---------------------+-----------+------------+------------+----------+----------+\n"
     ]
    }
   ],
   "execution_count": 7
  },
  {
   "metadata": {},
   "cell_type": "markdown",
   "source": "# Calculating Token Usage",
   "id": "3c2f23ab325a6931"
  },
  {
   "metadata": {
    "ExecuteTime": {
     "end_time": "2024-08-06T13:42:50.272608Z",
     "start_time": "2024-08-06T13:42:50.267115Z"
    }
   },
   "cell_type": "code",
   "source": [
    "embedding_tokens = df[\"embedding_tokens\"]\n",
    "prompt_tokens = df[\"prompt_tokens\"]\n",
    "completion_tokens = df[\"completion_tokens\"]\n",
    "total_tokens = df[\"total_tokens\"]\n",
    "\n",
    "# calculate averages\n",
    "avg_embedding_tokens = np.mean(embedding_tokens)\n",
    "avg_prompt_tokens = np.mean(prompt_tokens)\n",
    "avg_completion_tokens = np.mean(completion_tokens)\n",
    "avg_total_tokens = np.mean(total_tokens)\n",
    "\n",
    "# get maximum\n",
    "max_embedding_tokens = np.max(embedding_tokens)\n",
    "max_prompt_tokens = np.max(prompt_tokens)\n",
    "max_completion_tokens = np.max(completion_tokens)\n",
    "max_total_tokens = np.max(total_tokens)\n",
    "\n",
    "# get max ids\n",
    "max_embedding_id = embedding_tokens.idxmax()\n",
    "max_prompt_id = prompt_tokens.idxmax()\n",
    "max_completion_id = completion_tokens.idxmax()\n",
    "max_total_id = total_tokens.idxmax()\n",
    "\n",
    "# get minimum\n",
    "min_embedding_tokens = np.min(embedding_tokens)\n",
    "min_prompt_tokens = np.min(prompt_tokens)\n",
    "min_completion_tokens = np.min(completion_tokens)\n",
    "min_total_tokens = np.min(total_tokens)\n",
    "\n",
    "# get min ids\n",
    "min_embedding_id = embedding_tokens.idxmin()\n",
    "min_prompt_id = prompt_tokens.idxmin()\n",
    "min_completion_id = completion_tokens.idxmin()\n",
    "min_total_id = total_tokens.idxmin()\n",
    "\n",
    "# calculate cost\n",
    "prompt_costs_mini = 0.15 / 1_000_000\n",
    "completion_costs_mini = 0.6 / 1_000_000\n",
    "\n",
    "prompt_costs = 5 / 1_000_000\n",
    "completion_costs = 15 / 1_000_000\n",
    "\n",
    "avg_prompt_cost = avg_prompt_tokens * prompt_costs\n",
    "avg_completion_cost = avg_completion_tokens * completion_costs\n",
    "avg_total_cost = avg_prompt_cost + avg_completion_cost\n",
    "\n",
    "max_prompt_cost = max_prompt_tokens * prompt_costs\n",
    "max_completion_cost = max_completion_tokens * completion_costs\n",
    "max_total_cost = max_prompt_cost + max_completion_cost\n",
    "\n",
    "min_prompt_cost = min_prompt_tokens * prompt_costs\n",
    "min_completion_cost = min_completion_tokens * completion_costs\n",
    "min_total_cost = min_prompt_cost + min_completion_cost"
   ],
   "id": "d6d116e2dea1f6ab",
   "outputs": [],
   "execution_count": 25
  },
  {
   "metadata": {
    "ExecuteTime": {
     "end_time": "2024-08-06T13:42:53.751314Z",
     "start_time": "2024-08-06T13:42:53.747114Z"
    }
   },
   "cell_type": "code",
   "source": [
    "token_data = [\n",
    "    [\"Embedding\", avg_embedding_tokens, max_embedding_tokens, min_embedding_tokens, max_embedding_id, min_embedding_id, \"\", \"\", \"\"],\n",
    "    [\"Prompt\", avg_prompt_tokens, max_prompt_tokens, min_prompt_tokens, max_prompt_id, min_prompt_id, avg_prompt_cost, max_prompt_cost,min_prompt_cost],\n",
    "    [\"Completion\", avg_completion_tokens, max_completion_tokens, min_completion_tokens, max_completion_id, min_completion_id, avg_completion_cost, max_completion_cost, min_completion_cost],\n",
    "    [\"Total\", avg_total_tokens, max_total_tokens, min_total_tokens, max_total_id, min_total_id, avg_total_cost, max_total_cost, min_total_cost],\n",
    "]\n",
    "\n",
    "print(tabulate(token_data, headers=[\"Type\", \"Average\", \"Maximum\", \"Minimum\", \"Max ID\", \"Min ID\", \"Avg Cost\", \"Max Cost\", \"Min Cost\"], tablefmt=\"grid\"))"
   ],
   "id": "f0e0eee50601cf67",
   "outputs": [
    {
     "name": "stdout",
     "output_type": "stream",
     "text": [
      "+------------+-----------+-----------+-----------+----------+----------+----------------------+----------------------+-----------------------+\n",
      "| Type       |   Average |   Maximum |   Minimum |   Max ID |   Min ID | Avg Cost             | Max Cost             | Min Cost              |\n",
      "+============+===========+===========+===========+==========+==========+======================+======================+=======================+\n",
      "| Embedding  |    17     |        28 |        10 |        6 |        2 |                      |                      |                       |\n",
      "+------------+-----------+-----------+-----------+----------+----------+----------------------+----------------------+-----------------------+\n",
      "| Prompt     |  1687     |      2225 |      1046 |        9 |        5 | 0.008435000000000002 | 0.011125000000000001 | 0.00523               |\n",
      "+------------+-----------+-----------+-----------+----------+----------+----------------------+----------------------+-----------------------+\n",
      "| Completion |   370.167 |       933 |        97 |       11 |        2 | 0.0055525            | 0.013995             | 0.0014550000000000001 |\n",
      "+------------+-----------+-----------+-----------+----------+----------+----------------------+----------------------+-----------------------+\n",
      "| Total      |  2057.17  |      2948 |      1311 |        9 |        5 | 0.013987500000000002 | 0.025120000000000003 | 0.006685              |\n",
      "+------------+-----------+-----------+-----------+----------+----------+----------------------+----------------------+-----------------------+\n"
     ]
    }
   ],
   "execution_count": 26
  },
  {
   "metadata": {},
   "cell_type": "markdown",
   "source": "# How to perform t-tests",
   "id": "af84647938248f95"
  },
  {
   "metadata": {
    "ExecuteTime": {
     "end_time": "2024-08-06T11:36:48.935322Z",
     "start_time": "2024-08-06T11:36:48.933453Z"
    }
   },
   "cell_type": "code",
   "source": "from scipy.stats import ttest_ind",
   "id": "bc79b97733737ba5",
   "outputs": [],
   "execution_count": 8
  },
  {
   "metadata": {
    "ExecuteTime": {
     "end_time": "2024-08-06T11:37:49.257884Z",
     "start_time": "2024-08-06T11:37:48.980958Z"
    }
   },
   "cell_type": "code",
   "source": [
    "df_hybrid = pd.read_csv('./logs/2024-07-29_15-32-57_sauerkraut_hero_q6_jina_custom_prompt/hybrid_sauerkraut_hero_q6_jina_custom_prompt_2024-07-29_15-32-57.csv',\n",
    "                      sep=';')"
   ],
   "id": "37ed4b4060f3aabd",
   "outputs": [],
   "execution_count": 9
  },
  {
   "metadata": {
    "ExecuteTime": {
     "end_time": "2024-08-06T11:44:27.188050Z",
     "start_time": "2024-08-06T11:44:27.185098Z"
    }
   },
   "cell_type": "code",
   "source": [
    "hybrid_prompt_tokens = df_hybrid[\"prompt_tokens\"]\n",
    "print(ttest_ind(hybrid_prompt_tokens, prompt_tokens)) # equal_var=False if needed\n",
    "print(f\"{np.mean(hybrid_prompt_tokens)} || {avg_prompt_tokens}\")"
   ],
   "id": "19e5a96033c4a52f",
   "outputs": [
    {
     "name": "stdout",
     "output_type": "stream",
     "text": [
      "Ttest_indResult(statistic=2.899162831701088, pvalue=0.008322323384283261)\n",
      "2144.75 || 1687.0\n"
     ]
    }
   ],
   "execution_count": 17
  },
  {
   "metadata": {},
   "cell_type": "markdown",
   "source": [
    "A t-test can only be performed if:\n",
    "1. the data is relatively normally distributed\n",
    "2. the samples have approximately equal variance\n",
    "\n",
    "If the datasets do not have equal variance, we can use the equal_var=False flag for the t-Test.\n",
    "\n",
    "I don't know yet what to do if the data is not normally distributed"
   ],
   "id": "5969a82eb411fca4"
  },
  {
   "metadata": {},
   "cell_type": "markdown",
   "source": [
    "We can test if the data follows a normal distribution with the Shapiro-Wilk test. <br>\n",
    "Alternatively the D’Agostino K2 test can be used to measure Kurtosis and Skewness of a distribution.\n",
    "\n",
    "I know I learned when to which test in Sportscience, so I might want to look that up again.\n",
    "\n",
    "Both functions are taken from this tutorial: <br>\n",
    "https://datagy.io/normality-test-python/"
   ],
   "id": "7db77812a2dd044b"
  },
  {
   "metadata": {
    "ExecuteTime": {
     "end_time": "2024-08-06T11:54:13.284743Z",
     "start_time": "2024-08-06T11:54:13.281323Z"
    }
   },
   "cell_type": "code",
   "source": [
    "from scipy.stats import shapiro\n",
    "\n",
    "def shapiro_test(data, alpha = 0.05):\n",
    "    stat, p = shapiro(data)\n",
    "    if p > alpha:\n",
    "        print('Data looks Gaussian')\n",
    "    else:\n",
    "        print('Data look does not look Gaussian')"
   ],
   "id": "52ae8bf189ea0faa",
   "outputs": [],
   "execution_count": 18
  },
  {
   "metadata": {
    "ExecuteTime": {
     "end_time": "2024-08-06T11:54:47.425508Z",
     "start_time": "2024-08-06T11:54:47.422014Z"
    }
   },
   "cell_type": "code",
   "source": "shapiro_test(prompt_tokens)",
   "id": "b8cd990719de72f9",
   "outputs": [
    {
     "name": "stdout",
     "output_type": "stream",
     "text": [
      "Data looks Gaussian\n"
     ]
    }
   ],
   "execution_count": 20
  },
  {
   "metadata": {
    "ExecuteTime": {
     "end_time": "2024-08-06T11:57:55.495065Z",
     "start_time": "2024-08-06T11:57:55.491363Z"
    }
   },
   "cell_type": "code",
   "source": [
    "from scipy.stats import normaltest\n",
    "\n",
    "def dagostino_test(data, alpha = 0.05):\n",
    "    stat, p = normaltest(data)\n",
    "    if p > alpha:\n",
    "        print('Data looks Gaussian')\n",
    "    else:\n",
    "        print('Data does not look Gaussian')"
   ],
   "id": "433fb7848f1634f7",
   "outputs": [],
   "execution_count": 21
  },
  {
   "metadata": {
    "ExecuteTime": {
     "end_time": "2024-08-06T11:58:02.700938Z",
     "start_time": "2024-08-06T11:58:02.698523Z"
    }
   },
   "cell_type": "code",
   "source": "shapiro_test(prompt_tokens)",
   "id": "bbda6f74d9525cd3",
   "outputs": [
    {
     "name": "stdout",
     "output_type": "stream",
     "text": [
      "Data looks Gaussian\n"
     ]
    }
   ],
   "execution_count": 22
  },
  {
   "metadata": {},
   "cell_type": "markdown",
   "source": [
    "We can check for equal variance using the Levene's test\n",
    "\n",
    "Taken from this tutorial: <br>\n",
    "https://datagy.io/python-levene-test/"
   ],
   "id": "cffe9da10cd7639f"
  },
  {
   "metadata": {
    "ExecuteTime": {
     "end_time": "2024-08-06T12:04:12.262756Z",
     "start_time": "2024-08-06T12:04:12.259924Z"
    }
   },
   "cell_type": "code",
   "source": [
    "from scipy.stats import levene\n",
    "\n",
    "def levene_test(group1, group2):\n",
    "    levene_stat, p_value = levene(group1, group2)\n",
    "    if p_value < 0.05:\n",
    "        print(\"Variances are significantly different.\")\n",
    "    else:\n",
    "        print(\"Variances are likely similar.\")"
   ],
   "id": "8e62f4f6af878b9a",
   "outputs": [],
   "execution_count": 23
  },
  {
   "metadata": {
    "ExecuteTime": {
     "end_time": "2024-08-06T12:04:35.831669Z",
     "start_time": "2024-08-06T12:04:35.827372Z"
    }
   },
   "cell_type": "code",
   "source": "levene_test(prompt_tokens, hybrid_prompt_tokens)",
   "id": "37bd8f6ec1d724e2",
   "outputs": [
    {
     "name": "stdout",
     "output_type": "stream",
     "text": [
      "Variances are likely similar.\n"
     ]
    }
   ],
   "execution_count": 24
  },
  {
   "metadata": {},
   "cell_type": "code",
   "outputs": [],
   "execution_count": null,
   "source": "",
   "id": "2be981010a88e2fa"
  }
 ],
 "metadata": {
  "kernelspec": {
   "display_name": "Python 3 (ipykernel)",
   "language": "python",
   "name": "python3"
  },
  "language_info": {
   "codemirror_mode": {
    "name": "ipython",
    "version": 3
   },
   "file_extension": ".py",
   "mimetype": "text/x-python",
   "name": "python",
   "nbconvert_exporter": "python",
   "pygments_lexer": "ipython3",
   "version": "3.9.13"
  }
 },
 "nbformat": 4,
 "nbformat_minor": 5
}
